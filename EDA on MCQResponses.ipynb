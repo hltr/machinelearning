{
 "cells": [
  {
   "cell_type": "markdown",
   "metadata": {
    "colab_type": "text",
    "id": "cHdQMSVzJyip"
   },
   "source": [
    "## Overview\n",
    "\n",
    "In 2017, [Kaggle](https://www.kaggle.com) conducted a survey on a large range of users registered as the data scientist in their platform. The survey data are broadly covered the skill set of the data scientists, the demographic of the data scientists, the feedback of the platform and many other information. Participants' answers to multiple choice questions. Each column contains the answers of one respondent to a specific question: [MCQResponses.csv](https://github.com/tulip-lab/sit742/raw/master/Assessment/2020/data/MCQResponses.csv)      "
   ]
  },
  {
   "cell_type": "markdown",
   "metadata": {
    "_cell_guid": "06c9b38b-000e-4b8a-95f0-65a93bb332f2",
    "_uuid": "2bfa8ca86a226c9900a67a02236a072274bc0d18",
    "colab_type": "text",
    "id": "NuDhBkqaot17"
   },
   "source": [
    "### 1.0. Libraries and data files"
   ]
  },
  {
   "cell_type": "code",
   "execution_count": null,
   "metadata": {
    "colab": {
     "base_uri": "https://localhost:8080/",
     "height": 232
    },
    "colab_type": "code",
    "executionInfo": {
     "elapsed": 9263,
     "status": "ok",
     "timestamp": 1587106806918,
     "user": {
      "displayName": "Linh Tran",
      "photoUrl": "https://lh3.googleusercontent.com/a-/AOh14Giuw2tPp51QWPcuMAamZcGLA7EjNKtPsnMu34jsEw=s64",
      "userId": "14223705015751818881"
     },
     "user_tz": -600
    },
    "id": "Tzx_NMcsJyiv",
    "outputId": "c3279c4c-605d-4a12-8f87-80b1915d2dc6"
   },
   "outputs": [
    {
     "name": "stdout",
     "output_type": "stream",
     "text": [
      "Collecting wget\n",
      "  Downloading https://files.pythonhosted.org/packages/47/6a/62e288da7bcda82b935ff0c6cfe542970f04e29c756b0e147251b2fb251f/wget-3.2.zip\n",
      "Building wheels for collected packages: wget\n",
      "  Building wheel for wget (setup.py) ... \u001b[?25l\u001b[?25hdone\n",
      "  Created wheel for wget: filename=wget-3.2-cp36-none-any.whl size=9682 sha256=7c7e77a076fe9514df8a038018d45f3ca95b55bbc4daa4840e7903be65f328b8\n",
      "  Stored in directory: /root/.cache/pip/wheels/40/15/30/7d8f7cea2902b4db79e3fea550d7d7b85ecb27ef992b618f3f\n",
      "Successfully built wget\n",
      "Installing collected packages: wget\n",
      "Successfully installed wget-3.2\n"
     ]
    },
    {
     "name": "stderr",
     "output_type": "stream",
     "text": [
      "/usr/local/lib/python3.6/dist-packages/statsmodels/tools/_testing.py:19: FutureWarning: pandas.util.testing is deprecated. Use the functions in the public API at pandas.testing instead.\n",
      "  import pandas.util.testing as tm\n"
     ]
    }
   ],
   "source": [
    "!pip install wget\n",
    "\n",
    "import numpy as np\n",
    "from numpy import percentile\n",
    "import matplotlib.pyplot as plt\n",
    "import pandas as pd\n",
    "from pandas import datetime\n",
    "import wget\n",
    "import seaborn as sns\n",
    "sns.set(style=\"whitegrid\")\n",
    "\n",
    "link_to_data = 'https://github.com/tulip-lab/sit742/raw/master/Assessment/2020/data/MCQResponses.csv'\n",
    "DataSet = wget.download(link_to_data)\n",
    "link_to_data = 'https://github.com/tulip-lab/sit742/raw/master/Assessment/2020/data/ConversionRates.csv'\n",
    "DataSet = wget.download(link_to_data)\n",
    "link_to_data = 'https://github.com/tulip-lab/sit742/raw/master/Assessment/2020/data/JobPostings.csv'\n",
    "DataSet = wget.download(link_to_data)"
   ]
  },
  {
   "cell_type": "code",
   "execution_count": null,
   "metadata": {
    "colab": {
     "base_uri": "https://localhost:8080/",
     "height": 351
    },
    "colab_type": "code",
    "executionInfo": {
     "elapsed": 9249,
     "status": "ok",
     "timestamp": 1587106806920,
     "user": {
      "displayName": "Linh Tran",
      "photoUrl": "https://lh3.googleusercontent.com/a-/AOh14Giuw2tPp51QWPcuMAamZcGLA7EjNKtPsnMu34jsEw=s64",
      "userId": "14223705015751818881"
     },
     "user_tz": -600
    },
    "id": "Xl5VV8v4ot2N",
    "outputId": "5238d761-ed15-45d7-a6a5-8d6c2f1130c2"
   },
   "outputs": [
    {
     "data": {
      "text/html": [
       "<div>\n",
       "<style scoped>\n",
       "    .dataframe tbody tr th:only-of-type {\n",
       "        vertical-align: middle;\n",
       "    }\n",
       "\n",
       "    .dataframe tbody tr th {\n",
       "        vertical-align: top;\n",
       "    }\n",
       "\n",
       "    .dataframe thead th {\n",
       "        text-align: right;\n",
       "    }\n",
       "</style>\n",
       "<table border=\"1\" class=\"dataframe\">\n",
       "  <thead>\n",
       "    <tr style=\"text-align: right;\">\n",
       "      <th></th>\n",
       "      <th>GenderSelect</th>\n",
       "      <th>Country</th>\n",
       "      <th>Age</th>\n",
       "      <th>EmploymentStatus</th>\n",
       "      <th>CodeWriter</th>\n",
       "      <th>CurrentJobTitleSelect</th>\n",
       "      <th>TitleFit</th>\n",
       "      <th>CurrentEmployerType</th>\n",
       "      <th>MLToolNextYearSelect</th>\n",
       "      <th>MLMethodNextYearSelect</th>\n",
       "      <th>LanguageRecommendationSelect</th>\n",
       "      <th>FormalEducation</th>\n",
       "      <th>MajorSelect</th>\n",
       "      <th>FirstTrainingSelect</th>\n",
       "      <th>CompensationAmount</th>\n",
       "      <th>CompensationCurrency</th>\n",
       "      <th>JobSatisfaction</th>\n",
       "    </tr>\n",
       "  </thead>\n",
       "  <tbody>\n",
       "    <tr>\n",
       "      <th>0</th>\n",
       "      <td>Male</td>\n",
       "      <td>United States</td>\n",
       "      <td>56</td>\n",
       "      <td>Independent contractor, freelancer, or self-em...</td>\n",
       "      <td>Yes</td>\n",
       "      <td>Operations Research Practitioner</td>\n",
       "      <td>Poorly</td>\n",
       "      <td>Self-employed</td>\n",
       "      <td>TensorFlow</td>\n",
       "      <td>Neural Nets</td>\n",
       "      <td>Python</td>\n",
       "      <td>Master's degree</td>\n",
       "      <td>Mathematics or statistics</td>\n",
       "      <td>University courses</td>\n",
       "      <td>250000.0</td>\n",
       "      <td>USD</td>\n",
       "      <td>10 - Highly Satisfied</td>\n",
       "    </tr>\n",
       "    <tr>\n",
       "      <th>1</th>\n",
       "      <td>Female</td>\n",
       "      <td>Australia</td>\n",
       "      <td>43</td>\n",
       "      <td>Employed full-time</td>\n",
       "      <td>Yes</td>\n",
       "      <td>Business Analyst</td>\n",
       "      <td>Fine</td>\n",
       "      <td>Employed by non-profit or NGO</td>\n",
       "      <td>Microsoft Excel Data Mining</td>\n",
       "      <td>Link Analysis</td>\n",
       "      <td>Python</td>\n",
       "      <td>Bachelor's degree</td>\n",
       "      <td>NaN</td>\n",
       "      <td>Work</td>\n",
       "      <td>80000.0</td>\n",
       "      <td>AUD</td>\n",
       "      <td>7</td>\n",
       "    </tr>\n",
       "    <tr>\n",
       "      <th>2</th>\n",
       "      <td>Male</td>\n",
       "      <td>Russia</td>\n",
       "      <td>33</td>\n",
       "      <td>Employed full-time</td>\n",
       "      <td>Yes</td>\n",
       "      <td>Software Developer/Software Engineer</td>\n",
       "      <td>Fine</td>\n",
       "      <td>Employed by a company that doesn't perform adv...</td>\n",
       "      <td>C/C++</td>\n",
       "      <td>Deep learning</td>\n",
       "      <td>Python</td>\n",
       "      <td>Bachelor's degree</td>\n",
       "      <td>Other</td>\n",
       "      <td>Self-taught</td>\n",
       "      <td>1200000.0</td>\n",
       "      <td>RUB</td>\n",
       "      <td>7</td>\n",
       "    </tr>\n",
       "    <tr>\n",
       "      <th>3</th>\n",
       "      <td>Male</td>\n",
       "      <td>India</td>\n",
       "      <td>27</td>\n",
       "      <td>Employed full-time</td>\n",
       "      <td>Yes</td>\n",
       "      <td>Data Scientist</td>\n",
       "      <td>Fine</td>\n",
       "      <td>Employed by professional services/consulting f...</td>\n",
       "      <td>Other</td>\n",
       "      <td>Deep learning</td>\n",
       "      <td>Python</td>\n",
       "      <td>Bachelor's degree</td>\n",
       "      <td>Electrical Engineering</td>\n",
       "      <td>University courses</td>\n",
       "      <td>95000.0</td>\n",
       "      <td>INR</td>\n",
       "      <td>7</td>\n",
       "    </tr>\n",
       "    <tr>\n",
       "      <th>4</th>\n",
       "      <td>Male</td>\n",
       "      <td>Taiwan</td>\n",
       "      <td>26</td>\n",
       "      <td>Employed full-time</td>\n",
       "      <td>Yes</td>\n",
       "      <td>Software Developer/Software Engineer</td>\n",
       "      <td>Fine</td>\n",
       "      <td>Employed by professional services/consulting firm</td>\n",
       "      <td>TensorFlow</td>\n",
       "      <td>Deep learning</td>\n",
       "      <td>Python</td>\n",
       "      <td>Master's degree</td>\n",
       "      <td>Computer Science</td>\n",
       "      <td>Online courses (coursera, udemy, edx, etc.)</td>\n",
       "      <td>1100000.0</td>\n",
       "      <td>TWD</td>\n",
       "      <td>5</td>\n",
       "    </tr>\n",
       "  </tbody>\n",
       "</table>\n",
       "</div>"
      ],
      "text/plain": [
       "  GenderSelect        Country  ...  CompensationCurrency        JobSatisfaction\n",
       "0         Male  United States  ...                   USD  10 - Highly Satisfied\n",
       "1       Female      Australia  ...                   AUD                      7\n",
       "2         Male         Russia  ...                   RUB                      7\n",
       "3         Male          India  ...                   INR                      7\n",
       "4         Male         Taiwan  ...                   TWD                      5\n",
       "\n",
       "[5 rows x 17 columns]"
      ]
     },
     "execution_count": 2,
     "metadata": {
      "tags": []
     },
     "output_type": "execute_result"
    }
   ],
   "source": [
    "df_demog = pd.read_csv('MCQResponses.csv') #Load MCQResponses.csv into dataframe df_demog\n",
    "df_demog.head() #Print its top 5 rows"
   ]
  },
  {
   "cell_type": "code",
   "execution_count": null,
   "metadata": {
    "colab": {
     "base_uri": "https://localhost:8080/",
     "height": 354
    },
    "colab_type": "code",
    "executionInfo": {
     "elapsed": 9237,
     "status": "ok",
     "timestamp": 1587106806920,
     "user": {
      "displayName": "Linh Tran",
      "photoUrl": "https://lh3.googleusercontent.com/a-/AOh14Giuw2tPp51QWPcuMAamZcGLA7EjNKtPsnMu34jsEw=s64",
      "userId": "14223705015751818881"
     },
     "user_tz": -600
    },
    "id": "jk5oshZLot2U",
    "outputId": "0cd43271-ee11-4c0c-d034-51ff70bd4703"
   },
   "outputs": [
    {
     "name": "stdout",
     "output_type": "stream",
     "text": [
      "Does this column have NaNs? (False = No; True = Yes)\n",
      " GenderSelect                    False\n",
      "Country                         False\n",
      "Age                             False\n",
      "EmploymentStatus                False\n",
      "CodeWriter                      False\n",
      "CurrentJobTitleSelect           False\n",
      "TitleFit                         True\n",
      "CurrentEmployerType              True\n",
      "MLToolNextYearSelect             True\n",
      "MLMethodNextYearSelect           True\n",
      "LanguageRecommendationSelect     True\n",
      "FormalEducation                 False\n",
      "MajorSelect                      True\n",
      "FirstTrainingSelect              True\n",
      "CompensationAmount              False\n",
      "CompensationCurrency            False\n",
      "JobSatisfaction                  True\n",
      "dtype: bool\n"
     ]
    }
   ],
   "source": [
    "# Check which columns have NAs\n",
    "print(\"Does this column have NaNs? (False = No; True = Yes)\\n\", df_demog.isna().any())"
   ]
  },
  {
   "cell_type": "code",
   "execution_count": null,
   "metadata": {
    "colab": {
     "base_uri": "https://localhost:8080/",
     "height": 354
    },
    "colab_type": "code",
    "executionInfo": {
     "elapsed": 9215,
     "status": "ok",
     "timestamp": 1587106806922,
     "user": {
      "displayName": "Linh Tran",
      "photoUrl": "https://lh3.googleusercontent.com/a-/AOh14Giuw2tPp51QWPcuMAamZcGLA7EjNKtPsnMu34jsEw=s64",
      "userId": "14223705015751818881"
     },
     "user_tz": -600
    },
    "id": "AXyiiOEGot2a",
    "outputId": "a1b0e8fc-3bf5-423d-cdb7-b0717c6b9740"
   },
   "outputs": [
    {
     "name": "stdout",
     "output_type": "stream",
     "text": [
      "Number of values (not NaNs) in each column is:\n",
      " GenderSelect                    4327\n",
      "Country                         4327\n",
      "Age                             4327\n",
      "EmploymentStatus                4327\n",
      "CodeWriter                      4327\n",
      "CurrentJobTitleSelect           4327\n",
      "TitleFit                        4251\n",
      "CurrentEmployerType             4275\n",
      "MLToolNextYearSelect            4206\n",
      "MLMethodNextYearSelect          4170\n",
      "LanguageRecommendationSelect    4228\n",
      "FormalEducation                 4327\n",
      "MajorSelect                     3952\n",
      "FirstTrainingSelect             4324\n",
      "CompensationAmount              4327\n",
      "CompensationCurrency            4327\n",
      "JobSatisfaction                 4317\n",
      "dtype: int64\n"
     ]
    }
   ],
   "source": [
    "# For each of those columns, display how many records with values\n",
    "print(\"Number of values (not NaNs) in each column is:\\n\", df_demog.count())"
   ]
  },
  {
   "cell_type": "code",
   "execution_count": null,
   "metadata": {
    "colab": {
     "base_uri": "https://localhost:8080/",
     "height": 34
    },
    "colab_type": "code",
    "executionInfo": {
     "elapsed": 9195,
     "status": "ok",
     "timestamp": 1587106806923,
     "user": {
      "displayName": "Linh Tran",
      "photoUrl": "https://lh3.googleusercontent.com/a-/AOh14Giuw2tPp51QWPcuMAamZcGLA7EjNKtPsnMu34jsEw=s64",
      "userId": "14223705015751818881"
     },
     "user_tz": -600
    },
    "id": "sjdZZOc8ot2g",
    "outputId": "d8c51d27-a656-41ef-bfbd-86dfa9e7bf02"
   },
   "outputs": [
    {
     "data": {
      "text/plain": [
       "(1263, 17)"
      ]
     },
     "execution_count": 5,
     "metadata": {
      "tags": []
     },
     "output_type": "execute_result"
    }
   ],
   "source": [
    "# Filter Data scientist\n",
    "df_demog_ds = df_demog[df_demog[\"CurrentJobTitleSelect\"] == \"Data Scientist\"]\n",
    "df_demog_ds.shape"
   ]
  },
  {
   "cell_type": "markdown",
   "metadata": {
    "_cell_guid": "3e161447-2816-45ec-872f-3a20da79c042",
    "_uuid": "d6bdc03f0c63a08754efc13378661dc986d2bcb8",
    "colab_type": "text",
    "id": "iuhutBLOot5O"
   },
   "source": [
    "### 1.1. Education\n",
    "<a id=\"education\"></a>\n",
    "***\n",
    "In data scientists job, education is important. Is it reasonable to ask data scientists to have a Master's or Doctoral degree? Let's find out. \n"
   ]
  },
  {
   "cell_type": "code",
   "execution_count": null,
   "metadata": {
    "colab": {
     "base_uri": "https://localhost:8080/",
     "height": 752
    },
    "colab_type": "code",
    "executionInfo": {
     "elapsed": 9906,
     "status": "ok",
     "timestamp": 1587106807654,
     "user": {
      "displayName": "Linh Tran",
      "photoUrl": "https://lh3.googleusercontent.com/a-/AOh14Giuw2tPp51QWPcuMAamZcGLA7EjNKtPsnMu34jsEw=s64",
      "userId": "14223705015751818881"
     },
     "user_tz": -600
    },
    "id": "lRXfdfvgot5S",
    "outputId": "5267fe65-2867-4216-e5d7-14af595a5908"
   },
   "outputs": [
    {
     "data": {
      "image/png": "[encoded data removed]",
      "text/plain": [
       "<Figure size 576x576 with 1 Axes>"
      ]
     },
     "metadata": {
      "tags": []
     },
     "output_type": "display_data"
    },
    {
     "name": "stdout",
     "output_type": "stream",
     "text": [
      "                                                   FormalEducation  Counts  Percentages(%)\n",
      "                                                 Bachelor's degree     252            20.0\n",
      "                                                   Doctoral degree     326            25.8\n",
      "          I did not complete any formal education past high school       6             0.5\n",
      "                                                   Master's degree     635            50.3\n",
      "                                               Professional degree      25             2.0\n",
      " Some college/university study without earning a bachelor's degree      19             1.5\n"
     ]
    }
   ],
   "source": [
    "#prepare plotting data\n",
    "colors = sns.color_palette(None, 6)\n",
    "labels, edu_counts = np.unique(df_demog_ds[\"FormalEducation\"], return_counts=True)\n",
    "\n",
    "#draw pie\n",
    "plt.figure(figsize=(8,8))\n",
    "plt.pie(edu_counts, colors=colors, labels = edu_counts, labeldistance = .53, \n",
    "        pctdistance = 1.1, autopct='%1.1f%%', startangle=0)\n",
    "\n",
    "#draw circle\n",
    "plt.gcf().gca().add_artist(plt.Circle((0,0),.65,fc='white'))\n",
    "\n",
    "#add legend and title\n",
    "plt.legend(labels, loc=\"lower center\", bbox_to_anchor=(.50,-.35))\n",
    "plt.title(\"DATA SCIENTIST DISTRIBUTION BY FORMAL EDUCATION\", loc=\"center\")\n",
    "plt.axis('square')\n",
    "plt.show()\n",
    "\n",
    "#calculate percentages by education\n",
    "edu_percentages = np.round(edu_counts/edu_counts.sum()*100,1)\n",
    "\n",
    "#output text results\n",
    "edu_table = {'FormalEducation': labels, \n",
    "        'Counts': edu_counts, \n",
    "        'Percentages(%)': edu_percentages} \n",
    "edu_output = pd.DataFrame(edu_table) \n",
    "print(edu_output.to_string(index=False))"
   ]
  },
  {
   "cell_type": "markdown",
   "metadata": {
    "_cell_guid": "551f7dba-71d3-4f77-8852-fce4f789d644",
    "_uuid": "31449fb18bfea68bb723b010b78dcab6c8fe5439",
    "colab_type": "text",
    "id": "K-yMEEFLot7P"
   },
   "source": [
    "### 1.2. Salary\n",
    "<a id=\"salary\"></a>\n",
    "\n",
    "Data science is considered a very well paying role, let's find out the salary information. Since all of the respondents did not come from one country, we can assume that they gave their salaries in their countries currency. We have filtered the data for you and provided exchange rates in a file called *ConversionRates.csv* which should already be imported. "
   ]
  },
  {
   "cell_type": "code",
   "execution_count": null,
   "metadata": {
    "colab": {},
    "colab_type": "code",
    "id": "BZaQ7vykot7U"
   },
   "outputs": [],
   "source": [
    "#Load ConversationRates.csv\n",
    "df_rates = pd.read_csv('ConversionRates.csv')\n",
    "\n",
    "#left join exchangeRates into df_demog\n",
    "df_demog_merged = (pd.merge(df_demog, df_rates, how=\"left\", \n",
    "                     left_on=[\"CompensationCurrency\"], \n",
    "                     right_on=[\"originCountry\"])).drop(\"originCountry\", axis=1)\n",
    "\n",
    "#calculate Compensation according to AUD\n",
    "df_demog_merged[\"CompensationAmount\"] = df_demog_merged[\"CompensationAmount\"]*df_demog_merged[\"exchangeRate\"]*0.80231\n",
    "df_demog_merged = df_demog_merged.rename(columns={\"CompensationAmount\": \"CompensationAUD\"})"
   ]
  },
  {
   "cell_type": "code",
   "execution_count": null,
   "metadata": {
    "colab": {
     "base_uri": "https://localhost:8080/",
     "height": 34
    },
    "colab_type": "code",
    "executionInfo": {
     "elapsed": 9875,
     "status": "ok",
     "timestamp": 1587106807656,
     "user": {
      "displayName": "Linh Tran",
      "photoUrl": "https://lh3.googleusercontent.com/a-/AOh14Giuw2tPp51QWPcuMAamZcGLA7EjNKtPsnMu34jsEw=s64",
      "userId": "14223705015751818881"
     },
     "user_tz": -600
    },
    "id": "nA9JygJ2ot7v",
    "outputId": "8c06ada9-758b-4ffd-f54b-99a35aad301d"
   },
   "outputs": [
    {
     "name": "stdout",
     "output_type": "stream",
     "text": [
      "Maximum DS salary in AUD is: 8023099.2\n"
     ]
    }
   ],
   "source": [
    "print(\"Maximum DS salary in AUD is:\", \n",
    "      round(df_demog_merged[\"CompensationAUD\"].max(),2))"
   ]
  },
  {
   "cell_type": "code",
   "execution_count": null,
   "metadata": {
    "colab": {
     "base_uri": "https://localhost:8080/",
     "height": 34
    },
    "colab_type": "code",
    "executionInfo": {
     "elapsed": 9856,
     "status": "ok",
     "timestamp": 1587106807656,
     "user": {
      "displayName": "Linh Tran",
      "photoUrl": "https://lh3.googleusercontent.com/a-/AOh14Giuw2tPp51QWPcuMAamZcGLA7EjNKtPsnMu34jsEw=s64",
      "userId": "14223705015751818881"
     },
     "user_tz": -600
    },
    "id": "tyMNN-r3Jyjc",
    "outputId": "70fd0b29-0092-49a3-9a7f-3fdfd8f80283"
   },
   "outputs": [
    {
     "name": "stdout",
     "output_type": "stream",
     "text": [
      "Median DS salary in AUD is: 43279.89\n"
     ]
    }
   ],
   "source": [
    "print(\"Median DS salary in AUD is:\", \n",
    "      round(df_demog_merged[\"CompensationAUD\"].median(),2))"
   ]
  },
  {
   "cell_type": "code",
   "execution_count": null,
   "metadata": {
    "colab": {},
    "colab_type": "code",
    "id": "1BUOuFhQF9OF"
   },
   "outputs": [],
   "source": [
    "#dataset of Australian respondents\n",
    "df_demog_aus_ds = df_demog_merged[df_demog_merged[\"Country\"] == \"Australia\"]"
   ]
  },
  {
   "cell_type": "code",
   "execution_count": null,
   "metadata": {
    "colab": {
     "base_uri": "https://localhost:8080/",
     "height": 305
    },
    "colab_type": "code",
    "executionInfo": {
     "elapsed": 9823,
     "status": "ok",
     "timestamp": 1587106807657,
     "user": {
      "displayName": "Linh Tran",
      "photoUrl": "https://lh3.googleusercontent.com/a-/AOh14Giuw2tPp51QWPcuMAamZcGLA7EjNKtPsnMu34jsEw=s64",
      "userId": "14223705015751818881"
     },
     "user_tz": -600
    },
    "id": "dShaNOP0IieG",
    "outputId": "b8151b12-b90f-411a-82f0-f384215bf0fc"
   },
   "outputs": [
    {
     "data": {
      "image/png": "[encoded data removed]",
      "text/plain": [
       "<Figure size 288x288 with 1 Axes>"
      ]
     },
     "metadata": {
      "needs_background": "light",
      "tags": []
     },
     "output_type": "display_data"
    }
   ],
   "source": [
    "plt.figure(figsize=(4,4))\n",
    "sns.boxplot(df_demog_aus_ds[\"CompensationAUD\"], orient = \"v\")\n",
    "plt.title(\"BOXPLOT OF AUSTRALIAN DS SALARY DISTRIBUTION\\n\")\n",
    "plt.xlabel('Australian Data Scientists salary')\n",
    "plt.ylabel(\"Compensation Amount (AUD)\")\n",
    "plt.show()"
   ]
  },
  {
   "cell_type": "code",
   "execution_count": null,
   "metadata": {
    "colab": {
     "base_uri": "https://localhost:8080/",
     "height": 52
    },
    "colab_type": "code",
    "executionInfo": {
     "elapsed": 9796,
     "status": "ok",
     "timestamp": 1587106807658,
     "user": {
      "displayName": "Linh Tran",
      "photoUrl": "https://lh3.googleusercontent.com/a-/AOh14Giuw2tPp51QWPcuMAamZcGLA7EjNKtPsnMu34jsEw=s64",
      "userId": "14223705015751818881"
     },
     "user_tz": -600
    },
    "id": "RZDQMRRfMbSl",
    "outputId": "15fb3cb3-6e17-43c7-c0c3-d6f982488eed"
   },
   "outputs": [
    {
     "name": "stdout",
     "output_type": "stream",
     "text": [
      "Median Australian DS salary in AUD is: 74991.21\n",
      "Maximum Australian DS salary in AUD is: 320924.0\n"
     ]
    }
   ],
   "source": [
    "print(\"Median Australian DS salary in AUD is:\", \n",
    "      round(df_demog_aus_ds[\"CompensationAUD\"].median(),2))\n",
    "print(\"Maximum Australian DS salary in AUD is:\", \n",
    "      round(df_demog_aus_ds[\"CompensationAUD\"].max(),2))"
   ]
  },
  {
   "cell_type": "code",
   "execution_count": null,
   "metadata": {
    "colab": {
     "base_uri": "https://localhost:8080/",
     "height": 143
    },
    "colab_type": "code",
    "executionInfo": {
     "elapsed": 9781,
     "status": "ok",
     "timestamp": 1587106807659,
     "user": {
      "displayName": "Linh Tran",
      "photoUrl": "https://lh3.googleusercontent.com/a-/AOh14Giuw2tPp51QWPcuMAamZcGLA7EjNKtPsnMu34jsEw=s64",
      "userId": "14223705015751818881"
     },
     "user_tz": -600
    },
    "id": "5b5YI2CzjD0L",
    "outputId": "8fa3536e-7831-4a0a-e1a4-55cb2369e3f4"
   },
   "outputs": [
    {
     "name": "stderr",
     "output_type": "stream",
     "text": [
      "/usr/local/lib/python3.6/dist-packages/pandas/core/indexing.py:966: SettingWithCopyWarning: \n",
      "A value is trying to be set on a copy of a slice from a DataFrame.\n",
      "Try using .loc[row_indexer,col_indexer] = value instead\n",
      "\n",
      "See the caveats in the documentation: https://pandas.pydata.org/pandas-docs/stable/user_guide/indexing.html#returning-a-view-versus-a-copy\n",
      "  self.obj[item] = s\n"
     ]
    }
   ],
   "source": [
    "#either: replace unwanted values with the median of the rest\n",
    "# df_demog_aus_ds.loc[(df_demog_aus_ds[\"CompensationAUD\"] > 250000.0)|(df_demog_aus_ds[\"CompensationAUD\"] < 40000.0), \"CompensationAUD\"] = np.median(df_demog_aus_ds.loc[(df_demog_aus_ds[\"CompensationAUD\"] < 250000.0) & (df_demog_aus_ds[\"CompensationAUD\"] > 40000.0), \"CompensationAUD\"])\n",
    "#or: replace unwanted values with nan \n",
    "df_demog_aus_ds.loc[(df_demog_aus_ds[\"CompensationAUD\"] > 250000.0)|(df_demog_aus_ds[\"CompensationAUD\"] < 40000.0), \"CompensationAUD\"] = np.nan"
   ]
  },
  {
   "cell_type": "code",
   "execution_count": null,
   "metadata": {
    "colab": {
     "base_uri": "https://localhost:8080/",
     "height": 305
    },
    "colab_type": "code",
    "executionInfo": {
     "elapsed": 10270,
     "status": "ok",
     "timestamp": 1587106808174,
     "user": {
      "displayName": "Linh Tran",
      "photoUrl": "https://lh3.googleusercontent.com/a-/AOh14Giuw2tPp51QWPcuMAamZcGLA7EjNKtPsnMu34jsEw=s64",
      "userId": "14223705015751818881"
     },
     "user_tz": -600
    },
    "id": "XleF4BgByc-a",
    "outputId": "d18e3935-5670-4678-a69e-747a1ed25895"
   },
   "outputs": [
    {
     "data": {
      "image/png": "[encoded data removed]",
      "text/plain": [
       "<Figure size 288x288 with 1 Axes>"
      ]
     },
     "metadata": {
      "needs_background": "light",
      "tags": []
     },
     "output_type": "display_data"
    }
   ],
   "source": [
    "#plot boxplot for filtered data\n",
    "plt.figure(figsize=(4,4))\n",
    "sns.boxplot(df_demog_aus_ds[\"CompensationAUD\"], color = \"r\", orient = \"v\")\n",
    "plt.title(\"BOXPLOT OF AUSTRALIAN SALARY DISTRIBUTION (filtered)\\n\")\n",
    "plt.xlabel(\"Australian Data Scientists salary (filtered\")\n",
    "plt.ylabel(\"Compensation Amount (AUD)\")\n",
    "plt.show()"
   ]
  },
  {
   "cell_type": "code",
   "execution_count": null,
   "metadata": {
    "colab": {
     "base_uri": "https://localhost:8080/",
     "height": 52
    },
    "colab_type": "code",
    "executionInfo": {
     "elapsed": 10245,
     "status": "ok",
     "timestamp": 1587106808176,
     "user": {
      "displayName": "Linh Tran",
      "photoUrl": "https://lh3.googleusercontent.com/a-/AOh14Giuw2tPp51QWPcuMAamZcGLA7EjNKtPsnMu34jsEw=s64",
      "userId": "14223705015751818881"
     },
     "user_tz": -600
    },
    "id": "c7ebqKNcagCZ",
    "outputId": "4fb7cf79-7f53-4db9-deb0-b3684c80c972"
   },
   "outputs": [
    {
     "name": "stdout",
     "output_type": "stream",
     "text": [
      "Median Australian salary in AUD after filter is: 77244.16\n",
      "Maximum Australian salary in AUD after filter is: 225295.47\n"
     ]
    }
   ],
   "source": [
    "#your code\n",
    "print(\"Median Australian salary in AUD after filter is:\", \n",
    "      round(df_demog_aus_ds[\"CompensationAUD\"].median(),2))\n",
    "print(\"Maximum Australian salary in AUD after filter is:\", \n",
    "      round(df_demog_aus_ds[\"CompensationAUD\"].max(),2))"
   ]
  },
  {
   "cell_type": "markdown",
   "metadata": {
    "_cell_guid": "06c9b38b-000e-4b8a-95f0-65a93bb332f2",
    "_uuid": "2bfa8ca86a226c9900a67a02236a072274bc0d18",
    "colab_type": "text",
    "id": "WL_oOonnot2l"
   },
   "source": [
    "### 1.3. Exploring the data scientist Demographics\n",
    "<a id=\"demographics\"></a>\n",
    "***"
   ]
  },
  {
   "cell_type": "markdown",
   "metadata": {
    "colab_type": "text",
    "id": "vTcQuxXjPiYd"
   },
   "source": [
    "#### 1.3.1 Age\n",
    "<a id=\"age\"></a>\n",
    "Build a boxplot to explore the age of all data scientists."
   ]
  },
  {
   "cell_type": "code",
   "execution_count": null,
   "metadata": {
    "colab": {
     "base_uri": "https://localhost:8080/",
     "height": 305
    },
    "colab_type": "code",
    "executionInfo": {
     "elapsed": 10223,
     "status": "ok",
     "timestamp": 1587106808177,
     "user": {
      "displayName": "Linh Tran",
      "photoUrl": "https://lh3.googleusercontent.com/a-/AOh14Giuw2tPp51QWPcuMAamZcGLA7EjNKtPsnMu34jsEw=s64",
      "userId": "14223705015751818881"
     },
     "user_tz": -600
    },
    "id": "3qi9JyJHot2o",
    "outputId": "c125762d-3d6c-40f8-97b3-e9039e111ca3"
   },
   "outputs": [
    {
     "data": {
      "image/png": "[encoded data removed]",
      "text/plain": [
       "<Figure size 288x288 with 1 Axes>"
      ]
     },
     "metadata": {
      "needs_background": "light",
      "tags": []
     },
     "output_type": "display_data"
    }
   ],
   "source": [
    "plt.figure(figsize=(4,4))\n",
    "sns.boxplot(df_demog_ds[\"Age\"], color= \"y\", orient = \"v\")\n",
    "plt.title(\"BOXLOT OF AGE DISTRIBUTION\\n\")\n",
    "plt.xlabel(\"All Data scientists\")\n",
    "plt.ylabel(\"Age (years)\")\n",
    "plt.show()"
   ]
  },
  {
   "cell_type": "code",
   "execution_count": null,
   "metadata": {
    "colab": {
     "base_uri": "https://localhost:8080/",
     "height": 123
    },
    "colab_type": "code",
    "executionInfo": {
     "elapsed": 10201,
     "status": "ok",
     "timestamp": 1587106808178,
     "user": {
      "displayName": "Linh Tran",
      "photoUrl": "https://lh3.googleusercontent.com/a-/AOh14Giuw2tPp51QWPcuMAamZcGLA7EjNKtPsnMu34jsEw=s64",
      "userId": "14223705015751818881"
     },
     "user_tz": -600
    },
    "id": "NYdZjpklot2w",
    "outputId": "de394324-9606-4ba8-f357-83c821d55fab"
   },
   "outputs": [
    {
     "name": "stdout",
     "output_type": "stream",
     "text": [
      "Five descriptive statistics for age are:\n",
      "The minimum age is 16\n",
      "The Q1 value is 27\n",
      "The median age is 32\n",
      "The Q3 value is 38\n",
      "The maximum age is 75\n"
     ]
    }
   ],
   "source": [
    "# Calculate five descriptive statistics\n",
    "# calculate quartiles\n",
    "quartiles = percentile(df_demog_ds[\"Age\"], [25, 50, 75])\n",
    "# calculate min/max\n",
    "minval, maxval = df_demog_ds[\"Age\"].min(), df_demog_ds[\"Age\"].max()\n",
    "# print 5-number summary\n",
    "print(\"Five descriptive statistics for age are:\")\n",
    "print('The minimum age is %.0f' % minval)\n",
    "print('The Q1 value is %.0f' % quartiles[0])\n",
    "print('The median age is %.0f' % quartiles[1])\n",
    "print('The Q3 value is %.0f' % quartiles[2])\n",
    "print('The maximum age is %.0f' % maxval)"
   ]
  },
  {
   "cell_type": "code",
   "execution_count": null,
   "metadata": {
    "colab": {
     "base_uri": "https://localhost:8080/",
     "height": 34
    },
    "colab_type": "code",
    "executionInfo": {
     "elapsed": 10186,
     "status": "ok",
     "timestamp": 1587106808179,
     "user": {
      "displayName": "Linh Tran",
      "photoUrl": "https://lh3.googleusercontent.com/a-/AOh14Giuw2tPp51QWPcuMAamZcGLA7EjNKtPsnMu34jsEw=s64",
      "userId": "14223705015751818881"
     },
     "user_tz": -600
    },
    "id": "ngjxIviIot21",
    "outputId": "b9e3e81b-73c7-4b90-b241-537738396f3e"
   },
   "outputs": [
    {
     "name": "stdout",
     "output_type": "stream",
     "text": [
      "The mean age is: 34\n"
     ]
    }
   ],
   "source": [
    "# Mean \n",
    "print(\"The mean age is:\", round(df_demog_ds[\"Age\"].mean()))"
   ]
  },
  {
   "cell_type": "code",
   "execution_count": null,
   "metadata": {
    "colab": {
     "base_uri": "https://localhost:8080/",
     "height": 34
    },
    "colab_type": "code",
    "executionInfo": {
     "elapsed": 10169,
     "status": "ok",
     "timestamp": 1587106808179,
     "user": {
      "displayName": "Linh Tran",
      "photoUrl": "https://lh3.googleusercontent.com/a-/AOh14Giuw2tPp51QWPcuMAamZcGLA7EjNKtPsnMu34jsEw=s64",
      "userId": "14223705015751818881"
     },
     "user_tz": -600
    },
    "id": "bW7mnijvJyj1",
    "outputId": "1ea9e437-7d98-4c0f-ebcd-a8581f95a513"
   },
   "outputs": [
    {
     "name": "stdout",
     "output_type": "stream",
     "text": [
      "The median age is: 32\n"
     ]
    }
   ],
   "source": [
    "# Median\n",
    "print(\"The median age is:\", round(df_demog_ds[\"Age\"].median()))"
   ]
  },
  {
   "cell_type": "code",
   "execution_count": null,
   "metadata": {
    "colab": {
     "base_uri": "https://localhost:8080/",
     "height": 34
    },
    "colab_type": "code",
    "executionInfo": {
     "elapsed": 10149,
     "status": "ok",
     "timestamp": 1587106808180,
     "user": {
      "displayName": "Linh Tran",
      "photoUrl": "https://lh3.googleusercontent.com/a-/AOh14Giuw2tPp51QWPcuMAamZcGLA7EjNKtPsnMu34jsEw=s64",
      "userId": "14223705015751818881"
     },
     "user_tz": -600
    },
    "id": "RxcGZ97Uot3M",
    "outputId": "a845402a-5843-43de-9255-e00d229f0729"
   },
   "outputs": [
    {
     "name": "stdout",
     "output_type": "stream",
     "text": [
      "Number of data scientists aged between 24 and 60 is: 1129 person(s)\n"
     ]
    }
   ],
   "source": [
    "# How many data scientsits aged between 24 and 60?\n",
    "f24t60 = df_demog_ds.loc[(df_demog_ds[\"Age\"] > 24) & \n",
    "                     (df_demog_ds[\"Age\"] < 60), \"Age\"].count()\n",
    "print(\"Number of data scientists aged between 24 and 60 is:\", f24t60, \"person(s)\")"
   ]
  },
  {
   "cell_type": "code",
   "execution_count": null,
   "metadata": {
    "colab": {
     "base_uri": "https://localhost:8080/",
     "height": 34
    },
    "colab_type": "code",
    "executionInfo": {
     "elapsed": 10133,
     "status": "ok",
     "timestamp": 1587106808180,
     "user": {
      "displayName": "Linh Tran",
      "photoUrl": "https://lh3.googleusercontent.com/a-/AOh14Giuw2tPp51QWPcuMAamZcGLA7EjNKtPsnMu34jsEw=s64",
      "userId": "14223705015751818881"
     },
     "user_tz": -600
    },
    "id": "3fehgZuEJyj8",
    "outputId": "47659e0c-a905-46f0-f9ea-50d49c06703d"
   },
   "outputs": [
    {
     "name": "stdout",
     "output_type": "stream",
     "text": [
      "Number of data scientists aged under 18 is: 1 person(s)\n"
     ]
    }
   ],
   "source": [
    "# How many respondents under 18?\n",
    "u18 = df_demog_ds.loc[df_demog_ds[\"Age\"] < 18, \"Age\"].count()\n",
    "print(\"Number of data scientists aged under 18 is:\", u18, \"person(s)\")"
   ]
  },
  {
   "cell_type": "markdown",
   "metadata": {
    "colab_type": "text",
    "id": "c-al5HYdot3W"
   },
   "source": [
    "#### 1.3.2 Gender\n",
    "<a id=\"gender\"></a>\n",
    "We are interested in the gender of respondents. Nowadays, the gender equity is important for companies and organizations. \n"
   ]
  },
  {
   "cell_type": "code",
   "execution_count": null,
   "metadata": {
    "colab": {},
    "colab_type": "code",
    "id": "KN1s3y1DU1ES"
   },
   "outputs": [],
   "source": [
    "genders, gender_counts = np.unique(df_demog_ds[\"GenderSelect\"], return_counts=True)"
   ]
  },
  {
   "cell_type": "code",
   "execution_count": null,
   "metadata": {
    "colab": {
     "base_uri": "https://localhost:8080/",
     "height": 315
    },
    "colab_type": "code",
    "executionInfo": {
     "elapsed": 10099,
     "status": "ok",
     "timestamp": 1587106808181,
     "user": {
      "displayName": "Linh Tran",
      "photoUrl": "https://lh3.googleusercontent.com/a-/AOh14Giuw2tPp51QWPcuMAamZcGLA7EjNKtPsnMu34jsEw=s64",
      "userId": "14223705015751818881"
     },
     "user_tz": -600
    },
    "id": "OcKUWzqqot3Z",
    "outputId": "81ced2fe-6298-457f-a036-4827fbfb6d48"
   },
   "outputs": [
    {
     "data": {
      "image/png": "[encoded data removed]",
      "text/plain": [
       "<Figure size 576x288 with 1 Axes>"
      ]
     },
     "metadata": {
      "needs_background": "light",
      "tags": []
     },
     "output_type": "display_data"
    }
   ],
   "source": [
    "plt.figure(figsize=(8,4))\n",
    "sns.barplot(gender_counts, genders)\n",
    "plt.title(\"BARCHART OF DATA SCIENTIST NUMBER BY GENDER\\n\")\n",
    "for index, value in enumerate(gender_counts):\n",
    "    plt.text(value, index, str(value))\n",
    "plt.xlabel('Number of users')\n",
    "plt.ylabel(\"Gender Group\")\n",
    "plt.show()"
   ]
  },
  {
   "cell_type": "markdown",
   "metadata": {
    "colab_type": "text",
    "id": "-564LiBEV6jJ"
   },
   "source": [
    "Now let's see if any relationship between gender and age\n",
    "\n",
    "Create a box plot showing the age of all the data scientists according to gender (men, women and other identity)."
   ]
  },
  {
   "cell_type": "code",
   "execution_count": null,
   "metadata": {
    "colab": {
     "base_uri": "https://localhost:8080/",
     "height": 315
    },
    "colab_type": "code",
    "executionInfo": {
     "elapsed": 10494,
     "status": "ok",
     "timestamp": 1587106808601,
     "user": {
      "displayName": "Linh Tran",
      "photoUrl": "https://lh3.googleusercontent.com/a-/AOh14Giuw2tPp51QWPcuMAamZcGLA7EjNKtPsnMu34jsEw=s64",
      "userId": "14223705015751818881"
     },
     "user_tz": -600
    },
    "id": "aJWPNrWclpd-",
    "outputId": "fde58538-cc5b-4f28-8c34-086c55150ce2"
   },
   "outputs": [
    {
     "data": {
      "image/png": "[encoded data removed]",
      "text/plain": [
       "<Figure size 576x288 with 1 Axes>"
      ]
     },
     "metadata": {
      "needs_background": "light",
      "tags": []
     },
     "output_type": "display_data"
    }
   ],
   "source": [
    "plt.figure(figsize=(8,4))\n",
    "sns.boxplot(x = df_demog_ds[\"GenderSelect\"], \n",
    "            y = df_demog_ds[\"Age\"], \n",
    "            palette=[\"r\", \"g\", \"b\"])\n",
    "plt.title(\"BOXPLOTS OF AGE DISTRIBUTION BY GENDER\\n\")\n",
    "plt.xlabel(\"Gender Group\")\n",
    "plt.ylabel(\"Age (years)\")\n",
    "plt.show()"
   ]
  },
  {
   "cell_type": "code",
   "execution_count": null,
   "metadata": {
    "colab": {
     "base_uri": "https://localhost:8080/",
     "height": 315
    },
    "colab_type": "code",
    "executionInfo": {
     "elapsed": 10461,
     "status": "ok",
     "timestamp": 1587106808602,
     "user": {
      "displayName": "Linh Tran",
      "photoUrl": "https://lh3.googleusercontent.com/a-/AOh14Giuw2tPp51QWPcuMAamZcGLA7EjNKtPsnMu34jsEw=s64",
      "userId": "14223705015751818881"
     },
     "user_tz": -600
    },
    "id": "H0tU0cJLot3h",
    "outputId": "a02dff4e-a995-4134-a418-17a37e5e3d47"
   },
   "outputs": [
    {
     "data": {
      "image/png": "[encoded data removed]",
      "text/plain": [
       "<Figure size 576x288 with 1 Axes>"
      ]
     },
     "metadata": {
      "needs_background": "light",
      "tags": []
     },
     "output_type": "display_data"
    }
   ],
   "source": [
    "#calculate percentages by gender\n",
    "gender_percentages = gender_counts/gender_counts.sum()*100\n",
    "\n",
    "#plot barchart\n",
    "plt.figure(figsize=(8,4))\n",
    "sns.barplot(gender_percentages, genders)\n",
    "plt.title('BARCHART OF DATA SCIENTIST DISTRIBUTION BY GENDER IN PERCENTAGE\\n')\n",
    "for index, value in enumerate(gender_percentages):\n",
    "    plt.text(value, index, str(round(value,1)))\n",
    "plt.xlabel('Percentage [%]')\n",
    "plt.ylabel('Gender Group')\n",
    "plt.show()\n"
   ]
  },
  {
   "cell_type": "markdown",
   "metadata": {
    "colab_type": "text",
    "id": "ohxh7aPWot4G"
   },
   "source": [
    "#### 1.3.3 Country\n",
    "<a id=\"country\"></a>\n",
    "The data scientists are working all over the world. The United States is regarded the largest data science community. India, China and some other countries are also having a fast growing recently. Is this true? Let's find out."
   ]
  },
  {
   "cell_type": "code",
   "execution_count": null,
   "metadata": {
    "colab": {
     "base_uri": "https://localhost:8080/",
     "height": 141
    },
    "colab_type": "code",
    "executionInfo": {
     "elapsed": 10440,
     "status": "ok",
     "timestamp": 1587106808603,
     "user": {
      "displayName": "Linh Tran",
      "photoUrl": "https://lh3.googleusercontent.com/a-/AOh14Giuw2tPp51QWPcuMAamZcGLA7EjNKtPsnMu34jsEw=s64",
      "userId": "14223705015751818881"
     },
     "user_tz": -600
    },
    "id": "UF8M8wPDIwxN",
    "outputId": "03a0bed3-e87c-4a9a-844a-f6a6aa6ba62d"
   },
   "outputs": [
    {
     "name": "stdout",
     "output_type": "stream",
     "text": [
      "Top 5 Data Scientest Communities are:\n",
      "        Country  Community Size\n",
      "  United States             414\n",
      "          India             111\n",
      "         France              60\n",
      " United Kingdom              55\n",
      "        Germany              50\n"
     ]
    }
   ],
   "source": [
    "# create and fill value into df_country\n",
    "countries, country_counts = np.unique(df_demog_ds[\"Country\"], return_counts=True)\n",
    "df_country = pd.DataFrame({'Country': countries, 'Community Size': country_counts})\n",
    "df_country_top5 = df_country.sort_values(by = \"Community Size\", ascending=False).head()\n",
    "#output text results\n",
    "print(\"Top 5 Data Scientest Communities are:\")\n",
    "print(df_country_top5.to_string(index=False))"
   ]
  },
  {
   "cell_type": "code",
   "execution_count": null,
   "metadata": {
    "colab": {
     "base_uri": "https://localhost:8080/",
     "height": 711
    },
    "colab_type": "code",
    "executionInfo": {
     "elapsed": 11902,
     "status": "ok",
     "timestamp": 1587106810086,
     "user": {
      "displayName": "Linh Tran",
      "photoUrl": "https://lh3.googleusercontent.com/a-/AOh14Giuw2tPp51QWPcuMAamZcGLA7EjNKtPsnMu34jsEw=s64",
      "userId": "14223705015751818881"
     },
     "user_tz": -600
    },
    "id": "LqGEHJ6Qa6Lm",
    "outputId": "792b37af-a4d7-4d29-a951-9d7cb148871b"
   },
   "outputs": [
    {
     "data": {
      "image/png": "[encoded data removed]",
      "text/plain": [
       "<Figure size 1440x936 with 1 Axes>"
      ]
     },
     "metadata": {
      "needs_background": "light",
      "tags": []
     },
     "output_type": "display_data"
    }
   ],
   "source": [
    "# Show the Barplot of DS community size by country\n",
    "plt.figure(figsize=(20,13))\n",
    "sns.barplot(df_country.sort_values(by = \"Community Size\", ascending=False)[\"Community Size\"], df_country.sort_values(by = \"Community Size\", ascending=False)[\"Country\"])\n",
    "for index, value in enumerate(df_country.sort_values(by = \"Community Size\", ascending=False)[\"Community Size\"]):\n",
    "    plt.text(value, index, str(round(value,1)))\n",
    "plt.title(\"BARPLOT OF COUNTRY DS COMMUNITY SIZE\\n\")\n",
    "plt.show()"
   ]
  },
  {
   "cell_type": "code",
   "execution_count": null,
   "metadata": {
    "_cell_guid": "f3da614f-96e2-45d1-ba78-9d08a58fa136",
    "_kg_hide-input": true,
    "_uuid": "34afcf67184929a6de8358a13a961d0b9ad25b6c",
    "colab": {
     "base_uri": "https://localhost:8080/",
     "height": 305
    },
    "colab_type": "code",
    "executionInfo": {
     "elapsed": 11878,
     "status": "ok",
     "timestamp": 1587106810088,
     "user": {
      "displayName": "Linh Tran",
      "photoUrl": "https://lh3.googleusercontent.com/a-/AOh14Giuw2tPp51QWPcuMAamZcGLA7EjNKtPsnMu34jsEw=s64",
      "userId": "14223705015751818881"
     },
     "user_tz": -600
    },
    "id": "4NfzLajkot4X",
    "outputId": "754e1d96-140a-4c48-8eb6-b368f895cd8f"
   },
   "outputs": [
    {
     "data": {
      "image/png": "[encoded data removed]",
      "text/plain": [
       "<Figure size 576x288 with 1 Axes>"
      ]
     },
     "metadata": {
      "needs_background": "light",
      "tags": []
     },
     "output_type": "display_data"
    }
   ],
   "source": [
    "# Show the Boxplot of DS community size distribution\n",
    "plt.figure(figsize=(8,4))\n",
    "sns.boxplot(df_country[\"Community Size\"], orient = \"v\")\n",
    "plt.title(\"BOXPLOT OF ALL COUNTRIES DS COMMUNITY SIZE DISTRIBUTION\\n\")\n",
    "plt.xlabel('All Countries Community Size')\n",
    "plt.ylabel(\"\")\n",
    "plt.show()"
   ]
  },
  {
   "cell_type": "code",
   "execution_count": null,
   "metadata": {
    "colab": {
     "base_uri": "https://localhost:8080/",
     "height": 315
    },
    "colab_type": "code",
    "executionInfo": {
     "elapsed": 11855,
     "status": "ok",
     "timestamp": 1587106810089,
     "user": {
      "displayName": "Linh Tran",
      "photoUrl": "https://lh3.googleusercontent.com/a-/AOh14Giuw2tPp51QWPcuMAamZcGLA7EjNKtPsnMu34jsEw=s64",
      "userId": "14223705015751818881"
     },
     "user_tz": -600
    },
    "id": "M1g1CA3_ot4l",
    "outputId": "e12fadca-5bca-4712-d9c0-965193d51caf"
   },
   "outputs": [
    {
     "data": {
      "image/png": "[encoded data removed]",
      "text/plain": [
       "<Figure size 576x288 with 1 Axes>"
      ]
     },
     "metadata": {
      "needs_background": "light",
      "tags": []
     },
     "output_type": "display_data"
    }
   ],
   "source": [
    "#calculate percentages by gender\n",
    "top5_pct = df_country_top5[\"Community Size\"]/df_demog_ds[\"Country\"].count()*100\n",
    "top5_pct\n",
    "\n",
    "#plot barchart\n",
    "plt.figure(figsize=(8,4))\n",
    "sns.barplot(df_country_top5[\"Country\"], top5_pct)\n",
    "plt.title('BARCHART OF TOP 5 DS COMMUNITY IN PERCENTAGE\\n')\n",
    "for index, value in enumerate(top5_pct):\n",
    "    plt.text(index, value, str(round(value,1)))\n",
    "plt.xlabel('Country Group')\n",
    "plt.ylabel('Percentage [%]')\n",
    "plt.show()"
   ]
  },
  {
   "cell_type": "markdown",
   "metadata": {
    "colab_type": "text",
    "id": "rQNCS52Aot40"
   },
   "source": [
    "Now we have some understanding about the country, let's see if there is any relationship between country, age and gender."
   ]
  },
  {
   "cell_type": "code",
   "execution_count": null,
   "metadata": {
    "colab": {
     "base_uri": "https://localhost:8080/",
     "height": 478
    },
    "colab_type": "code",
    "executionInfo": {
     "elapsed": 11835,
     "status": "ok",
     "timestamp": 1587106810090,
     "user": {
      "displayName": "Linh Tran",
      "photoUrl": "https://lh3.googleusercontent.com/a-/AOh14Giuw2tPp51QWPcuMAamZcGLA7EjNKtPsnMu34jsEw=s64",
      "userId": "14223705015751818881"
     },
     "user_tz": -600
    },
    "id": "E8716HXOho98",
    "outputId": "8471e667-e2cd-479c-cd01-bb59c261ffaf"
   },
   "outputs": [
    {
     "name": "stdout",
     "output_type": "stream",
     "text": [
      "Mean:\n",
      "United States A different identity mean age is 31\n",
      "United States Female mean age is 33\n",
      "United States Male mean age is 36\n",
      "India A different identity mean age is nan\n",
      "India Female mean age is 29\n",
      "India Male mean age is 30\n",
      "Australia A different identity mean age is nan\n",
      "Australia Female mean age is 33\n",
      "Australia Male mean age is 35\n",
      "Pakistan A different identity mean age is nan\n",
      "Pakistan Female mean age is nan\n",
      "Pakistan Male mean age is 32\n",
      "Median:\n",
      "United States A different identity median age is 31\n",
      "United States Female median age is 31\n",
      "United States Male median age is 33\n",
      "India A different identity median age is nan\n",
      "India Female median age is 27\n",
      "India Male median age is 28\n",
      "Australia A different identity median age is nan\n",
      "Australia Female median age is 31\n",
      "Australia Male median age is 34\n",
      "Pakistan A different identity median age is nan\n",
      "Pakistan Female median age is nan\n",
      "Pakistan Male median age is 27\n"
     ]
    }
   ],
   "source": [
    "print(\"Mean:\")\n",
    "for each in [\"United States\", \"India\", \"Australia\", \"Pakistan\"]:\n",
    "  df = df_demog_ds.loc[(df_demog_ds[\"Country\"] == each)]\n",
    "  for gender in genders:\n",
    "    df_gender = df.loc[(df[\"GenderSelect\"] == gender)]\n",
    "    print(each, gender, \"mean age is %.0f\" %df_gender['Age'].mean())\n",
    "print(\"Median:\")\n",
    "for each in [\"United States\", \"India\", \"Australia\", \"Pakistan\"]:\n",
    "  df = df_demog_ds.loc[(df_demog_ds[\"Country\"] == each)]\n",
    "  for gender in genders:\n",
    "    df_gender = df.loc[(df[\"GenderSelect\"] == gender)]\n",
    "    print(each, gender, \"median age is %.0f\" %df_gender['Age'].median())"
   ]
  },
  {
   "cell_type": "code",
   "execution_count": null,
   "metadata": {
    "colab": {},
    "colab_type": "code",
    "id": "rEasNcqObLVM"
   },
   "outputs": [],
   "source": [
    "df_4_countries = df_demog_ds.loc[(df_demog_ds[\"Country\"] == \"United States\")| \n",
    "                               (df_demog_ds[\"Country\"] == \"India\")|\n",
    "                               (df_demog_ds[\"Country\"] == \"Australia\")|\n",
    "                               (df_demog_ds[\"Country\"] == \"Pakistan\")]"
   ]
  },
  {
   "cell_type": "code",
   "execution_count": null,
   "metadata": {
    "colab": {
     "base_uri": "https://localhost:8080/",
     "height": 315
    },
    "colab_type": "code",
    "executionInfo": {
     "elapsed": 12332,
     "status": "ok",
     "timestamp": 1587106810619,
     "user": {
      "displayName": "Linh Tran",
      "photoUrl": "https://lh3.googleusercontent.com/a-/AOh14Giuw2tPp51QWPcuMAamZcGLA7EjNKtPsnMu34jsEw=s64",
      "userId": "14223705015751818881"
     },
     "user_tz": -600
    },
    "id": "C8x3hi3xot45",
    "outputId": "98f4ea4f-bb29-4d7c-f9d7-14b960b5275a"
   },
   "outputs": [
    {
     "data": {
      "image/png": "[encoded data removed]",
      "text/plain": [
       "<Figure size 576x288 with 1 Axes>"
      ]
     },
     "metadata": {
      "needs_background": "light",
      "tags": []
     },
     "output_type": "display_data"
    }
   ],
   "source": [
    "plt.figure(figsize=(8,4))\n",
    "sns.boxplot(x = df_4_countries[\"Country\"],\n",
    "            y = df_demog_ds[\"Age\"], \n",
    "            palette=[\"r\", \"g\", \"b\"],\n",
    "            hue = df_4_countries[\"GenderSelect\"])\n",
    "plt.title(\"BOXPLOTS OF AGE DISTRIBUTION BY GENDER IN USA, INDIA, AUSTRALIA AND PAKISTAN\\n\")\n",
    "plt.xlabel(\"Country Group\")\n",
    "plt.ylabel(\"Age (years)\")\n",
    "plt.legend(title = \"Gender Group\")\n",
    "plt.show()"
   ]
  }
 ],
 "metadata": {
  "colab": {
   "collapsed_sections": [],
   "name": "some EDA.ipynb",
   "provenance": [],
   "toc_visible": true
  },
  "kernelspec": {
   "display_name": "Python 3",
   "language": "python",
   "name": "python3"
  },
  "language_info": {
   "codemirror_mode": {
    "name": "ipython",
    "version": 3
   },
   "file_extension": ".py",
   "mimetype": "text/x-python",
   "name": "python",
   "nbconvert_exporter": "python",
   "pygments_lexer": "ipython3",
   "version": "3.7.3"
  }
 },
 "nbformat": 4,
 "nbformat_minor": 1
}
